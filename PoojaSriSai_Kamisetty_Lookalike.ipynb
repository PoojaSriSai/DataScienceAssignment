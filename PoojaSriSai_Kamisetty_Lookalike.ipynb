{
 "cells": [
  {
   "cell_type": "code",
   "execution_count": 2,
   "id": "0954bb74-2556-4ee0-9cac-b39f433eacb2",
   "metadata": {},
   "outputs": [],
   "source": [
    "import pandas as pd\n",
    "import numpy as np\n",
    "from sklearn.preprocessing import LabelEncoder, StandardScaler\n",
    "from sklearn.metrics.pairwise import cosine_similarity\n"
   ]
  },
  {
   "cell_type": "code",
   "execution_count": 3,
   "id": "7776de87-d667-4421-acb6-8f2ca407092a",
   "metadata": {},
   "outputs": [
    {
     "name": "stdout",
     "output_type": "stream",
     "text": [
      "  TransactionID CustomerID ProductID      TransactionDate  Quantity  \\\n",
      "0        T00001      C0199      P067  2024-08-25 12:38:23         1   \n",
      "1        T00112      C0146      P067  2024-05-27 22:23:54         1   \n",
      "2        T00166      C0127      P067  2024-04-25 07:38:55         1   \n",
      "3        T00272      C0087      P067  2024-03-26 22:55:37         2   \n",
      "4        T00363      C0070      P067  2024-03-21 15:10:10         3   \n",
      "\n",
      "   TotalValue  Price_x     CustomerName         Region  SignupDate  \\\n",
      "0      300.68   300.68   Andrea Jenkins         Europe  2022-12-03   \n",
      "1      300.68   300.68  Brittany Harvey           Asia  2024-09-04   \n",
      "2      300.68   300.68  Kathryn Stevens         Europe  2024-04-04   \n",
      "3      601.36   300.68  Travis Campbell  South America  2024-04-11   \n",
      "4      902.04   300.68    Timothy Perez         Europe  2022-03-15   \n",
      "\n",
      "                       ProductName     Category  Price_y  \n",
      "0  ComfortLiving Bluetooth Speaker  Electronics   300.68  \n",
      "1  ComfortLiving Bluetooth Speaker  Electronics   300.68  \n",
      "2  ComfortLiving Bluetooth Speaker  Electronics   300.68  \n",
      "3  ComfortLiving Bluetooth Speaker  Electronics   300.68  \n",
      "4  ComfortLiving Bluetooth Speaker  Electronics   300.68  \n"
     ]
    }
   ],
   "source": [
    "# Load the datasets\n",
    "customers = pd.read_csv(\"Customers.csv\")\n",
    "products = pd.read_csv(\"Products.csv\")\n",
    "transactions = pd.read_csv(\"Transactions.csv\")\n",
    "\n",
    "# Merge Transactions with Customers and Products\n",
    "merged_data = transactions.merge(customers, on=\"CustomerID\", how=\"left\")\n",
    "merged_data = merged_data.merge(products, on=\"ProductID\", how=\"left\")\n",
    "\n",
    "# Display the merged data\n",
    "print(merged_data.head())\n"
   ]
  },
  {
   "cell_type": "code",
   "execution_count": 6,
   "id": "882c6259-fe64-4cfd-90e7-8bedb6ac919d",
   "metadata": {},
   "outputs": [],
   "source": [
    "# Initialize LabelEncoder\n",
    "le = LabelEncoder()\n",
    "\n",
    "# Encode categorical columns\n",
    "merged_data[\"Region\"] = le.fit_transform(merged_data[\"Region\"])\n",
    "merged_data[\"Category\"] = le.fit_transform(merged_data[\"Category\"])\n",
    "merged_data[\"ProductName\"] = le.fit_transform(merged_data[\"ProductName\"])\n"
   ]
  },
  {
   "cell_type": "code",
   "execution_count": 10,
   "id": "05af9c39-96ed-41cb-935e-4644f0cd606a",
   "metadata": {},
   "outputs": [
    {
     "name": "stdout",
     "output_type": "stream",
     "text": [
      "Index(['TransactionID', 'CustomerID', 'ProductID', 'TransactionDate',\n",
      "       'Quantity', 'TotalValue', 'Price_x', 'CustomerName', 'Region',\n",
      "       'SignupDate', 'ProductName', 'Category', 'Price_y'],\n",
      "      dtype='object')\n"
     ]
    }
   ],
   "source": [
    "print(merged_data.columns)\n"
   ]
  },
  {
   "cell_type": "code",
   "execution_count": 11,
   "id": "cca7ca9c-f943-4747-a019-ed1f47cbb308",
   "metadata": {},
   "outputs": [
    {
     "name": "stdout",
     "output_type": "stream",
     "text": [
      "Index(['ProductID', 'ProductName', 'Category', 'Price'], dtype='object')\n"
     ]
    }
   ],
   "source": [
    "products = pd.read_csv(\"Products.csv\")\n",
    "print(products.columns)\n"
   ]
  },
  {
   "cell_type": "code",
   "execution_count": 12,
   "id": "4cc6add6-461c-49c8-8a2e-985be0670773",
   "metadata": {},
   "outputs": [
    {
     "name": "stdout",
     "output_type": "stream",
     "text": [
      "  TransactionID CustomerID ProductID      TransactionDate  Quantity  \\\n",
      "0        T00001      C0199      P067  2024-08-25 12:38:23         1   \n",
      "1        T00112      C0146      P067  2024-05-27 22:23:54         1   \n",
      "2        T00166      C0127      P067  2024-04-25 07:38:55         1   \n",
      "3        T00272      C0087      P067  2024-03-26 22:55:37         2   \n",
      "4        T00363      C0070      P067  2024-03-21 15:10:10         3   \n",
      "\n",
      "   TotalValue  Price_x     CustomerName         Region  SignupDate  \\\n",
      "0      300.68   300.68   Andrea Jenkins         Europe  2022-12-03   \n",
      "1      300.68   300.68  Brittany Harvey           Asia  2024-09-04   \n",
      "2      300.68   300.68  Kathryn Stevens         Europe  2024-04-04   \n",
      "3      601.36   300.68  Travis Campbell  South America  2024-04-11   \n",
      "4      902.04   300.68    Timothy Perez         Europe  2022-03-15   \n",
      "\n",
      "                       ProductName     Category  Price_y  \n",
      "0  ComfortLiving Bluetooth Speaker  Electronics   300.68  \n",
      "1  ComfortLiving Bluetooth Speaker  Electronics   300.68  \n",
      "2  ComfortLiving Bluetooth Speaker  Electronics   300.68  \n",
      "3  ComfortLiving Bluetooth Speaker  Electronics   300.68  \n",
      "4  ComfortLiving Bluetooth Speaker  Electronics   300.68  \n"
     ]
    }
   ],
   "source": [
    "merged_data = transactions.merge(customers, on=\"CustomerID\", how=\"left\")\n",
    "merged_data = merged_data.merge(products, on=\"ProductID\", how=\"left\")\n",
    "print(merged_data.head())\n"
   ]
  },
  {
   "cell_type": "code",
   "execution_count": 14,
   "id": "b6bd6fb0-7e61-47bb-abfc-bc97dc3bfc7a",
   "metadata": {},
   "outputs": [
    {
     "name": "stdout",
     "output_type": "stream",
     "text": [
      "  CustomerID  TotalValue  Quantity     Price_y         Region  Category\n",
      "0      C0001     3354.52        12  278.334000  South America         3\n",
      "1      C0002     1862.74        10  208.920000           Asia         2\n",
      "2      C0003     2725.38        14  195.707500  South America         3\n",
      "3      C0004     5354.88        23  240.636250  South America         3\n",
      "4      C0005     2034.24         7  291.603333           Asia         2\n"
     ]
    }
   ],
   "source": [
    "# Use Price_y (from Products.csv) in aggregation\n",
    "customer_data = merged_data.groupby(\"CustomerID\").agg({\n",
    "    \"TotalValue\": \"sum\",     # Total spending\n",
    "    \"Quantity\": \"sum\",       # Total quantity purchased\n",
    "    \"Price_y\": \"mean\",       # Average price of products purchased\n",
    "    \"Region\": \"first\",       # Region\n",
    "    \"Category\": \"nunique\"    # Number of unique product categories purchased\n",
    "}).reset_index()\n",
    "\n",
    "print(customer_data.head())\n"
   ]
  },
  {
   "cell_type": "code",
   "execution_count": 15,
   "id": "ff5597a9-f4c3-416d-9695-ed7485c2223c",
   "metadata": {},
   "outputs": [
    {
     "name": "stdout",
     "output_type": "stream",
     "text": [
      "Index(['TransactionID', 'CustomerID', 'ProductID', 'TransactionDate',\n",
      "       'Quantity', 'TotalValue', 'TransactionPrice', 'CustomerName', 'Region',\n",
      "       'SignupDate', 'ProductName', 'Category', 'StandardPrice'],\n",
      "      dtype='object')\n"
     ]
    }
   ],
   "source": [
    "# Rename the columns to clarify their sources\n",
    "merged_data = merged_data.rename(columns={\n",
    "    \"Price_x\": \"TransactionPrice\",\n",
    "    \"Price_y\": \"StandardPrice\"\n",
    "})\n",
    "\n",
    "# Verify the updated column names\n",
    "print(merged_data.columns)\n"
   ]
  },
  {
   "cell_type": "code",
   "execution_count": 16,
   "id": "b3de61f2-6c7d-484b-9987-7ef1fdf89f99",
   "metadata": {},
   "outputs": [
    {
     "name": "stdout",
     "output_type": "stream",
     "text": [
      "  CustomerID  TotalValue  Quantity  StandardPrice         Region  Category\n",
      "0      C0001     3354.52        12     278.334000  South America         3\n",
      "1      C0002     1862.74        10     208.920000           Asia         2\n",
      "2      C0003     2725.38        14     195.707500  South America         3\n",
      "3      C0004     5354.88        23     240.636250  South America         3\n",
      "4      C0005     2034.24         7     291.603333           Asia         2\n"
     ]
    }
   ],
   "source": [
    "# Rename the Price columns for clarity\n",
    "merged_data = merged_data.rename(columns={\n",
    "    \"Price_x\": \"TransactionPrice\",\n",
    "    \"Price_y\": \"StandardPrice\"\n",
    "})\n",
    "\n",
    "# Aggregate customer-level data\n",
    "customer_data = merged_data.groupby(\"CustomerID\").agg({\n",
    "    \"TotalValue\": \"sum\",       # Total spending\n",
    "    \"Quantity\": \"sum\",         # Total quantity purchased\n",
    "    \"StandardPrice\": \"mean\",   # Average standard price of products purchased\n",
    "    \"Region\": \"first\",         # Region (as categorical)\n",
    "    \"Category\": \"nunique\"      # Number of unique product categories purchased\n",
    "}).reset_index()\n",
    "\n",
    "# View the aggregated customer data\n",
    "print(customer_data.head())\n"
   ]
  },
  {
   "cell_type": "code",
   "execution_count": 17,
   "id": "6b51c42e-9b12-4830-917a-9cd3b0ab5b3c",
   "metadata": {},
   "outputs": [],
   "source": [
    "from sklearn.preprocessing import LabelEncoder, StandardScaler\n",
    "\n",
    "# Encode categorical variables\n",
    "label_encoder = LabelEncoder()\n",
    "customer_data[\"RegionEncoded\"] = label_encoder.fit_transform(customer_data[\"Region\"])\n",
    "\n",
    "# Select features for similarity calculation\n",
    "features = [\"TotalValue\", \"Quantity\", \"StandardPrice\", \"Category\", \"RegionEncoded\"]\n",
    "\n",
    "# Normalize features\n",
    "scaler = StandardScaler()\n",
    "normalized_data = scaler.fit_transform(customer_data[features])\n",
    "\n",
    "# Convert normalized data back into a DataFrame for easier handling\n",
    "normalized_df = pd.DataFrame(normalized_data, columns=features, index=customer_data[\"CustomerID\"])\n"
   ]
  },
  {
   "cell_type": "code",
   "execution_count": 18,
   "id": "0dc299c9-9e62-448b-9729-8ea82dca9283",
   "metadata": {},
   "outputs": [
    {
     "name": "stdout",
     "output_type": "stream",
     "text": [
      "Lookalike.csv generated successfully!\n"
     ]
    }
   ],
   "source": [
    "from sklearn.metrics.pairwise import cosine_similarity\n",
    "import numpy as np\n",
    "\n",
    "# Calculate the cosine similarity matrix\n",
    "similarity_matrix = cosine_similarity(normalized_df)\n",
    "\n",
    "# Create a DataFrame for similarity scores\n",
    "similarity_df = pd.DataFrame(similarity_matrix, index=customer_data[\"CustomerID\"], columns=customer_data[\"CustomerID\"])\n",
    "\n",
    "# Function to get top 3 similar customers\n",
    "def get_top_lookalikes(similarity_df, customer_id, top_n=3):\n",
    "    # Get similarity scores for the given customer\n",
    "    similar_customers = similarity_df[customer_id].sort_values(ascending=False).iloc[1:top_n + 1]\n",
    "    return list(zip(similar_customers.index, similar_customers.values))\n",
    "\n",
    "# Generate Lookalike.csv for the first 20 customers\n",
    "lookalikes = {}\n",
    "for customer_id in customer_data[\"CustomerID\"][:20]:\n",
    "    lookalikes[customer_id] = get_top_lookalikes(similarity_df, customer_id)\n",
    "\n",
    "# Convert to a DataFrame for saving\n",
    "lookalike_df = pd.DataFrame({\n",
    "    \"CustomerID\": lookalikes.keys(),\n",
    "    \"Lookalikes\": [str(v) for v in lookalikes.values()]\n",
    "})\n",
    "\n",
    "# Save Lookalike.csv\n",
    "lookalike_df.to_csv(\"Lookalike.csv\", index=False)\n",
    "print(\"Lookalike.csv generated successfully!\")\n"
   ]
  },
  {
   "cell_type": "code",
   "execution_count": 21,
   "id": "8b18bf82-9928-49f0-97bf-7b39931b1086",
   "metadata": {},
   "outputs": [
    {
     "name": "stdout",
     "output_type": "stream",
     "text": [
      "  CustomerID                                         Lookalikes\n",
      "0      C0001  [('C0011', 0.9662034972155572), ('C0152', 0.96...\n",
      "1      C0002  [('C0142', 0.9868685460668792), ('C0159', 0.95...\n",
      "2      C0003  [('C0174', 0.9422833940136143), ('C0047', 0.89...\n",
      "3      C0004  [('C0165', 0.9770876758426572), ('C0018', 0.95...\n",
      "4      C0005  [('C0140', 0.9915541185777954), ('C0186', 0.98...\n"
     ]
    }
   ],
   "source": [
    "# Load and display the Lookalike.csv\n",
    "lookalike_output = pd.read_csv(\"Lookalike.csv\")\n",
    "print(lookalike_output.head())\n"
   ]
  },
  {
   "cell_type": "code",
   "execution_count": null,
   "id": "f7257f87-85f2-4794-8298-5435696558dc",
   "metadata": {},
   "outputs": [],
   "source": []
  }
 ],
 "metadata": {
  "kernelspec": {
   "display_name": "Python 3 (ipykernel)",
   "language": "python",
   "name": "python3"
  },
  "language_info": {
   "codemirror_mode": {
    "name": "ipython",
    "version": 3
   },
   "file_extension": ".py",
   "mimetype": "text/x-python",
   "name": "python",
   "nbconvert_exporter": "python",
   "pygments_lexer": "ipython3",
   "version": "3.12.7"
  }
 },
 "nbformat": 4,
 "nbformat_minor": 5
}
